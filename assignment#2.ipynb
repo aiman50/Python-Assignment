{
 "cells": [
  {
   "cell_type": "code",
   "execution_count": null,
   "metadata": {},
   "outputs": [],
   "source": [
    "num1=int(input(\"Enter the marks of Urdu\"))\n",
    "num2=int(input(\"Enter the marks of Science\"))\n",
    "num3=int(input(\"Enter the marks of Physics\"))\n",
    "num4=int(input(\"Enter the marks of Ziology\"))\n",
    "num5=int(input(\"Enter the marks of Botony\"))\n",
    "total= (num1 + num2 +num3 +num4+num5)/500\n",
    "if total>90:\n",
    "    print(\"YU HAVE SECURED A+\")\n",
    "elif total<90 and total>80:\n",
    "    print(\"YOU HAVE SECURED A\")\n",
    "elif total<80 and total>70:\n",
    "    print(\"YOU HAVE SECURED B\")\n",
    "elif total<70 and total>60:\n",
    "    print(\"YOU HAVE SECURED C\") \n",
    "\n",
    "else:\n",
    "    print(\"FAILED!\")"
   ]
  },
  {
   "cell_type": "code",
   "execution_count": null,
   "metadata": {},
   "outputs": [],
   "source": [
    "number=int(input(\"Enter the number\"))\n",
    "if (number %2 ==0):\n",
    "    print(\"Entered number is even\")\n",
    "else:\n",
    "    print(\"Entered number is odd\")"
   ]
  },
  {
   "cell_type": "code",
   "execution_count": null,
   "metadata": {},
   "outputs": [],
   "source": [
    "list=sum([\"Amy\",\"Joe\",\"Charlote\",\"Kindle\"])\n",
    "print(list)"
   ]
  },
  {
   "cell_type": "code",
   "execution_count": null,
   "metadata": {},
   "outputs": [],
   "source": [
    "list=len([25,39,35,65,65])\n",
    "print(list)"
   ]
  },
  {
   "cell_type": "code",
   "execution_count": null,
   "metadata": {},
   "outputs": [],
   "source": [
    "largest_number=max([4,34,6,88,10])\n",
    "print(largest_number)\n"
   ]
  },
  {
   "cell_type": "code",
   "execution_count": null,
   "metadata": {},
   "outputs": [],
   "source": [
    "list = [1, 1, 2, 3,3,5,2,3,1,6,7]\n",
    "print(\"Number less than 5 are\")\n",
    "for i in list:\n",
    "    if i<5:\n",
    "        print(i)"
   ]
  }
 ],
 "metadata": {
  "kernelspec": {
   "display_name": "Python 3",
   "language": "python",
   "name": "python3"
  },
  "language_info": {
   "codemirror_mode": {
    "name": "ipython",
    "version": 3
   },
   "file_extension": ".py",
   "mimetype": "text/x-python",
   "name": "python",
   "nbconvert_exporter": "python",
   "pygments_lexer": "ipython3",
   "version": "3.7.4"
  }
 },
 "nbformat": 4,
 "nbformat_minor": 2
}
