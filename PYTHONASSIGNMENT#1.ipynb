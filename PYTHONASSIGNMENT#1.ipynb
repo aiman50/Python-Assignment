{
 "cells": [
  {
   "cell_type": "code",
   "execution_count": 1,
   "metadata": {},
   "outputs": [
    {
     "name": "stdout",
     "output_type": "stream",
     "text": [
      "Twinkle, twinkle, little star,\n",
      "\t How I wonder what you are!\n",
      "\t\tUp above the world so high,\n",
      "\t\tLike a diamond in he sky.\n",
      "Twinkle, twinkle, little star,\n",
      "\tHow I wonder what you are\n"
     ]
    }
   ],
   "source": [
    " print(\"Twinkle, twinkle, little star,\\n\\t How I wonder what you are!\\n\\t\\tUp above the world so high,\\n\\t\\tLike a diamond in he sky.\\nTwinkle, twinkle, little star,\\n\\tHow I wonder what you are\")    "
   ]
  },
  {
   "cell_type": "code",
   "execution_count": 2,
   "metadata": {},
   "outputs": [
    {
     "name": "stdout",
     "output_type": "stream",
     "text": [
      "3.7.4 (default, Aug  9 2019, 18:34:13) [MSC v.1915 64 bit (AMD64)]\n"
     ]
    }
   ],
   "source": [
    "import sys\n",
    "print (sys.version)"
   ]
  },
  {
   "cell_type": "code",
   "execution_count": 3,
   "metadata": {},
   "outputs": [
    {
     "name": "stdout",
     "output_type": "stream",
     "text": [
      "Current date and time : 11-11-2019 14:12:45\n"
     ]
    }
   ],
   "source": [
    "import datetime\n",
    "now = datetime.datetime.now()\n",
    "print (\"Current date and time : \"+now.strftime(\"%d-%m-%Y %H:%M:%S\"))   "
   ]
  },
  {
   "cell_type": "code",
   "execution_count": 5,
   "metadata": {},
   "outputs": [
    {
     "name": "stdout",
     "output_type": "stream",
     "text": [
      "Enter the radius of circle5\n",
      "THE AREA OF CIRCLE IS 78.55\n"
     ]
    }
   ],
   "source": [
    "radius=input(\"Enter the radius of circle\")\n",
    "rad=int(radius)\n",
    "pi=3.142\n",
    "area=rad*rad*pi \n",
    "print(\"THE AREA OF CIRCLE IS\",area)"
   ]
  },
  {
   "cell_type": "code",
   "execution_count": 7,
   "metadata": {},
   "outputs": [
    {
     "name": "stdout",
     "output_type": "stream",
     "text": [
      "ENTER YOUR FIRST NAMEAIMAN\n",
      "ENTER YOUR LAST NAMEMASOOD\n",
      "NAMIA DOOSAM\n"
     ]
    }
   ],
   "source": [
    "FIRST=input(\"ENTER YOUR FIRST NAME\")\n",
    "LAST=input(\"ENTER YOUR LAST NAME\")\n",
    "print(FIRST[::-1] +\" \" + LAST[::-1])  "
   ]
  },
  {
   "cell_type": "code",
   "execution_count": 8,
   "metadata": {},
   "outputs": [
    {
     "name": "stdout",
     "output_type": "stream",
     "text": [
      "Enter the first stringHELLO\n",
      "Enter the second stringAIMAN\n",
      "the entered string is HELLOAIMAN\n"
     ]
    }
   ],
   "source": [
    "text1=input(\"Enter the first string\")\n",
    "text2=input(\"Enter the second string\")\n",
    "print(\"the entered string is\", text1 + text2)"
   ]
  },
  {
   "cell_type": "code",
   "execution_count": null,
   "metadata": {},
   "outputs": [],
   "source": []
  }
 ],
 "metadata": {
  "kernelspec": {
   "display_name": "Python 3",
   "language": "python",
   "name": "python3"
  },
  "language_info": {
   "codemirror_mode": {
    "name": "ipython",
    "version": 3
   },
   "file_extension": ".py",
   "mimetype": "text/x-python",
   "name": "python",
   "nbconvert_exporter": "python",
   "pygments_lexer": "ipython3",
   "version": "3.7.4"
  }
 },
 "nbformat": 4,
 "nbformat_minor": 2
}
