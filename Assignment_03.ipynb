{
  "nbformat": 4,
  "nbformat_minor": 0,
  "metadata": {
    "colab": {
      "name": "Assignment_03.ipynb",
      "provenance": [],
      "collapsed_sections": []
    },
    "kernelspec": {
      "name": "python3",
      "display_name": "Python 3"
    }
  },
  "cells": [
    {
      "cell_type": "code",
      "metadata": {
        "id": "YMcD7EPLNdwI",
        "colab_type": "code",
        "colab": {
          "base_uri": "https://localhost:8080/",
          "height": 170
        },
        "outputId": "113fb678-f438-4942-d5a9-324a8670d34a"
      },
      "source": [
        "# Program make a simple calculator\n",
        "# This function adds two numbers \n",
        "def add(x, y):\n",
        "   return x + y\n",
        "# This function subtracts two numbers \n",
        "def subtract(x, y):\n",
        "   return x - y\n",
        "# This function multiplies two numbers\n",
        "def multiply(x, y):\n",
        "   return x * y\n",
        "# This function divides two numbers\n",
        "def divide(x, y):\n",
        "   return x / y\n",
        "print(\"Select operation.\")\n",
        "print(\"1.Add\")\n",
        "print(\"2.Subtract\")\n",
        "print(\"3.Multiply\")\n",
        "print(\"4.Divide\")\n",
        "# Take input from the user \n",
        "choice = input(\"Enter choice(1/2/3/4): \")\n",
        "num1 = float(input(\"Enter first number: \"))\n",
        "num2 = float(input(\"Enter second number: \"))\n",
        "if choice == '1':\n",
        "   print(num1,\"+\",num2,\"=\", add(num1,num2))\n",
        "elif choice == '2':\n",
        "   print(num1,\"-\",num2,\"=\", subtract(num1,num2))\n",
        "elif choice == '3':\n",
        "   print(num1,\"*\",num2,\"=\", multiply(num1,num2))\n",
        "elif choice == '4':\n",
        "   print(num1,\"/\",num2,\"=\", divide(num1,num2))\n",
        "else:\n",
        "   print(\"Invalid input\")"
      ],
      "execution_count": 2,
      "outputs": [
        {
          "output_type": "stream",
          "text": [
            "Select operation.\n",
            "1.Add\n",
            "2.Subtract\n",
            "3.Multiply\n",
            "4.Divide\n",
            "Enter choice(1/2/3/4): 4\n",
            "Enter first number: 12\n",
            "Enter second number: 45\n",
            "12.0 / 45.0 = 0.26666666666666666\n"
          ],
          "name": "stdout"
        }
      ]
    },
    {
      "cell_type": "code",
      "metadata": {
        "id": "6TkN7LvUkjNd",
        "colab_type": "code",
        "colab": {
          "base_uri": "https://localhost:8080/",
          "height": 34
        },
        "outputId": "97003b62-645c-476b-952a-ad4398ab5254"
      },
      "source": [
        "mylist = ['1', 'Sheraz', '2', 'Arain', '3', '4']\n",
        "for item in mylist:\n",
        "    mynewlist = [s for s in mylist if s.isdigit()]\n",
        "\n",
        "print(mynewlist)"
      ],
      "execution_count": 8,
      "outputs": [
        {
          "output_type": "stream",
          "text": [
            "['1', '2', '3', '4']\n"
          ],
          "name": "stdout"
        }
      ]
    },
    {
      "cell_type": "code",
      "metadata": {
        "id": "ZfFv_DnhfYnO",
        "colab_type": "code",
        "outputId": "338df494-de50-441a-9d01-5bc0e25f1a6a",
        "colab": {
          "base_uri": "https://localhost:8080/",
          "height": 68
        }
      },
      "source": [
        "# Dictionary class  \n",
        "class my_dictionary(dict):  \n",
        "  \n",
        "    # __init__ function  \n",
        "    def __init__(self):  \n",
        "        self = dict()  \n",
        "          \n",
        "    # Function to add key:value  \n",
        "    def add(self, key, value):  \n",
        "        self[key] = value  \n",
        "  \n",
        "# Main Function  \n",
        "dict_obj = my_dictionary()  \n",
        "  \n",
        "# Taking input key = 1, value = KEY \n",
        "dict_obj.key = input(\"Enter the key: \") \n",
        "dict_obj.value = input(\"Enter the value: \") \n",
        "  \n",
        "dict_obj.add(dict_obj.key, dict_obj.value)  \n",
        "dict_obj.add(2, 'forLock')  \n",
        "  \n",
        "print(dict_obj)  "
      ],
      "execution_count": 9,
      "outputs": [
        {
          "output_type": "stream",
          "text": [
            "Enter the key: 1\n",
            "Enter the value: KEY\n",
            "{'1': 'KEY', 2: 'forLock'}\n"
          ],
          "name": "stdout"
        }
      ]
    },
    {
      "cell_type": "code",
      "metadata": {
        "id": "97eyeNltlD2a",
        "colab_type": "code",
        "colab": {
          "base_uri": "https://localhost:8080/",
          "height": 34
        },
        "outputId": "c2b0e7e6-94aa-4dcb-9709-f4f109c95f61"
      },
      "source": [
        "my_dict = {'data1':100,'data2':54,'data3':246}\n",
        "print(sum(my_dict.values()))"
      ],
      "execution_count": 12,
      "outputs": [
        {
          "output_type": "stream",
          "text": [
            "400\n"
          ],
          "name": "stdout"
        }
      ]
    },
    {
      "cell_type": "code",
      "metadata": {
        "id": "SFezpD-RnXoE",
        "colab_type": "code",
        "colab": {
          "base_uri": "https://localhost:8080/",
          "height": 34
        },
        "outputId": "7888718e-4405-4f53-e28f-3b527d32cfc7"
      },
      "source": [
        "l = [1,2,3,4,4,5,5,6,1]\n",
        "x=set([x for x in l if l.count(x) > 1])\n",
        "print(x)"
      ],
      "execution_count": 15,
      "outputs": [
        {
          "output_type": "stream",
          "text": [
            "{1, 4, 5}\n"
          ],
          "name": "stdout"
        }
      ]
    },
    {
      "cell_type": "code",
      "metadata": {
        "id": "KW_3Z5b6opLz",
        "colab_type": "code",
        "colab": {
          "base_uri": "https://localhost:8080/",
          "height": 51
        },
        "outputId": "49a666a2-24bc-44f0-c478-78941f58ec08"
      },
      "source": [
        "d = {1: 10, 2: 20, 3: 30, 4: 40, 5: 50, 6: 60}\n",
        "x=int(input(\"Enter Value: \"))\n",
        "\n",
        "def is_key_present(x):\n",
        "  if x in d:\n",
        "      print('Key is present in the dictionary')\n",
        "  else:\n",
        "      print('Key is not present in the dictionary')\n",
        "\n",
        "is_key_present(x)\n"
      ],
      "execution_count": 26,
      "outputs": [
        {
          "output_type": "stream",
          "text": [
            "Enter Value: 5\n",
            "Key is present in the dictionary\n"
          ],
          "name": "stdout"
        }
      ]
    }
  ]
}